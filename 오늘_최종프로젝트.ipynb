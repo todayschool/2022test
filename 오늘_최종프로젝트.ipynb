{
  "nbformat": 4,
  "nbformat_minor": 0,
  "metadata": {
    "colab": {
      "name": "오늘_최종프로젝트.ipynb",
      "provenance": [],
      "toc_visible": true,
      "authorship_tag": "ABX9TyPnXIu11X2iUziOs1VIlchN",
      "include_colab_link": true
    },
    "kernelspec": {
      "name": "python3",
      "display_name": "Python 3"
    },
    "language_info": {
      "name": "python"
    }
  },
  "cells": [
    {
      "cell_type": "markdown",
      "metadata": {
        "id": "view-in-github",
        "colab_type": "text"
      },
      "source": [
        "<a href=\"https://colab.research.google.com/github/todayschool/Today_5-6th-mission/blob/main/%EC%98%A4%EB%8A%98_%EC%B5%9C%EC%A2%85%ED%94%84%EB%A1%9C%EC%A0%9D%ED%8A%B8.ipynb\" target=\"_parent\"><img src=\"https://colab.research.google.com/assets/colab-badge.svg\" alt=\"Open In Colab\"/></a>"
      ]
    },
    {
      "cell_type": "markdown",
      "source": [
        "# **모둠 구성 프로그램**\n",
        "## 같은 모둠을 피해야 할 학생들을 고려하여 모둠을 구성해주는 프로그램입니다.\n",
        "## 학급에서 자리 배치할 때 같은 모둠을 피해야 하는 학생이 있을 경우, 체육 활동에서 잘하는 학생들을 분리해서 모둠 구성을 해야할 때 등 다양한 모둠구성에서 활용할 수 있습니다.\n",
        "### 1. 학생명부 데이터 파일을 불러오지 않고, 전체 인원수를 입력받아 학급번호만을 활용하여 모둠을 구성합니다.\n",
        "### 2. 적용할 조건 : (1) 모둠수 (2) 같은 모둠을 피해야 할 학생"
      ],
      "metadata": {
        "id": "6d73aXm-cPL3"
      }
    },
    {
      "cell_type": "code",
      "source": [
        "import random\n",
        "\n",
        "#전체 학생수를 입력받고, 학생들 번호가 입력된 리스트 생성\n",
        "class_num = int(input('전체 학생수를 입력해주세요.'))\n",
        "class_list = [x + 1 for x in range(class_num)]\n",
        "\n",
        "#같은 모둠을 피해야할 학생들의 번호 입력받기\n",
        "separate_list = []\n",
        "while True:\n",
        "  tmp_answer = input('같은 모둠을 피해야 할 학생들이 있나요? (예/아니오)로 답해주세요.')\n",
        "  if tmp_answer == '아니오':\n",
        "    break\n",
        "  elif tmp_answer == '예':\n",
        "    tmp_input = set(map(int, input('같은 모둠을 피해야 할 두 명의 학생번호를 한 칸 띄어 각각 입력해주세요.').split()))\n",
        "    separate_list.append(tmp_input)\n",
        "  else:\n",
        "    print('잘못 입력했습니다. 다시 입력해주세요.')\n",
        "\n",
        "group_num = int(input('구성할 모둠수를 입력해주세요.'))\n",
        "\n",
        "#모둠 구성하기\n",
        "while True:\n",
        "  group_list = []\n",
        "  for i in range(group_num):\n",
        "    group_list.append([])             #학생 번호가 들어갈 모둠별 빈 리스트 생성\n",
        "  random.shuffle(class_list)\n",
        "  for i in range(class_num):\n",
        "    group_list[i % group_num].append(class_list[i])\n",
        "  result = 1                            #피해야할 학생들이 같은 모둠으로 구성됐는지 확인\n",
        "  for i in group_list:\n",
        "    for j in separate_list:\n",
        "      if len(set(j) - set(i)) == 0:\n",
        "        result = 0\n",
        "        break\n",
        "  if result == 1:\n",
        "    break\n",
        "\n",
        "#결과 출력하기\n",
        "for i in range(len(group_list)):\n",
        "  print(str(i + 1) + '모둠의 구성원은 ' + str(group_list[i]) + '입니다.')"
      ],
      "metadata": {
        "colab": {
          "base_uri": "https://localhost:8080/"
        },
        "id": "ebT1QWugcm3z",
        "outputId": "484d637f-df83-49cb-fdca-712cc4342b52"
      },
      "execution_count": 18,
      "outputs": [
        {
          "output_type": "stream",
          "name": "stdout",
          "text": [
            "전체 학생수를 입력해주세요.21\n",
            "같은 모둠을 피해야 할 학생들이 있나요? (예/아니오)로 답해주세요.예\n",
            "같은 모둠을 피해야 할 두 명의 학생번호를 한 칸 띄어 각각 입력해주세요.1 2\n",
            "같은 모둠을 피해야 할 학생들이 있나요? (예/아니오)로 답해주세요.예\n",
            "같은 모둠을 피해야 할 두 명의 학생번호를 한 칸 띄어 각각 입력해주세요.3 4\n",
            "같은 모둠을 피해야 할 학생들이 있나요? (예/아니오)로 답해주세요.예\n",
            "같은 모둠을 피해야 할 두 명의 학생번호를 한 칸 띄어 각각 입력해주세요.5 6\n",
            "같은 모둠을 피해야 할 학생들이 있나요? (예/아니오)로 답해주세요.예\n",
            "같은 모둠을 피해야 할 두 명의 학생번호를 한 칸 띄어 각각 입력해주세요.7 8\n",
            "같은 모둠을 피해야 할 학생들이 있나요? (예/아니오)로 답해주세요.예\n",
            "같은 모둠을 피해야 할 두 명의 학생번호를 한 칸 띄어 각각 입력해주세요.9 10\n",
            "같은 모둠을 피해야 할 학생들이 있나요? (예/아니오)로 답해주세요.예\n",
            "같은 모둠을 피해야 할 두 명의 학생번호를 한 칸 띄어 각각 입력해주세요.11 12\n",
            "같은 모둠을 피해야 할 학생들이 있나요? (예/아니오)로 답해주세요.아니오\n",
            "구성할 모둠수를 입력해주세요.10\n",
            "1모둠의 구성원은 [18, 11, 3]입니다.\n",
            "2모둠의 구성원은 [20, 12]입니다.\n",
            "3모둠의 구성원은 [8, 9]입니다.\n",
            "4모둠의 구성원은 [16, 5]입니다.\n",
            "5모둠의 구성원은 [19, 17]입니다.\n",
            "6모둠의 구성원은 [6, 10]입니다.\n",
            "7모둠의 구성원은 [13, 15]입니다.\n",
            "8모둠의 구성원은 [7, 4]입니다.\n",
            "9모둠의 구성원은 [14, 1]입니다.\n",
            "10모둠의 구성원은 [2, 21]입니다.\n"
          ]
        }
      ]
    }
  ]
}