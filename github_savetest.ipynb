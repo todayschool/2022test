{
  "nbformat": 4,
  "nbformat_minor": 0,
  "metadata": {
    "colab": {
      "name": "github_savetest.ipynb",
      "provenance": [],
      "authorship_tag": "ABX9TyP87U4PYVDAK4vk0l0GgEhK",
      "include_colab_link": true
    },
    "kernelspec": {
      "name": "python3",
      "display_name": "Python 3"
    },
    "language_info": {
      "name": "python"
    }
  },
  "cells": [
    {
      "cell_type": "markdown",
      "metadata": {
        "id": "view-in-github",
        "colab_type": "text"
      },
      "source": [
        "<a href=\"https://colab.research.google.com/github/todayschool/2022test/blob/main/github_savetest.ipynb\" target=\"_parent\"><img src=\"https://colab.research.google.com/assets/colab-badge.svg\" alt=\"Open In Colab\"/></a>"
      ]
    },
    {
      "cell_type": "code",
      "execution_count": null,
      "metadata": {
        "id": "w1TFmT5lUjJc"
      },
      "outputs": [],
      "source": [
        "print(\"Hello, World!\")"
      ]
    }
  ]
}